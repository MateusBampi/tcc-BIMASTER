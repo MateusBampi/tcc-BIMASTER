{
  "nbformat": 4,
  "nbformat_minor": 0,
  "metadata": {
    "colab": {
      "name": "Teste YOLOV5.ipynb",
      "provenance": [],
      "authorship_tag": "ABX9TyOzlVdAdgamkk68cWnUyz5O",
      "include_colab_link": true
    },
    "kernelspec": {
      "name": "python3",
      "display_name": "Python 3"
    },
    "language_info": {
      "name": "python"
    },
    "accelerator": "GPU"
  },
  "cells": [
    {
      "cell_type": "markdown",
      "metadata": {
        "id": "view-in-github",
        "colab_type": "text"
      },
      "source": [
        "<a href=\"https://colab.research.google.com/github/MateusBampi/tcc-BIMASTER/blob/testar-yolov5/Teste_YOLOV5.ipynb\" target=\"_parent\"><img src=\"https://colab.research.google.com/assets/colab-badge.svg\" alt=\"Open In Colab\"/></a>"
      ]
    },
    {
      "cell_type": "code",
      "metadata": {
        "id": "L3RH3hlOA3M7"
      },
      "source": [
        "#monta o drive do google colab\n",
        "from google.colab import drive\n",
        "drive.mount ('/content/gdrive')"
      ],
      "execution_count": null,
      "outputs": []
    },
    {
      "cell_type": "code",
      "metadata": {
        "id": "21M4wOkeBPKV"
      },
      "source": [
        "#verifica a qual placa de vídeo estamos conectados\n",
        "!nvidia-smi"
      ],
      "execution_count": null,
      "outputs": []
    },
    {
      "cell_type": "code",
      "metadata": {
        "id": "Ue5MPI7BBPIH"
      },
      "source": [
        "#clona o yolov5 e instala as dependencias\n",
        "!git clone https://github.com/ultralytics/yolov5\n",
        "!pip install -r yolov5/requirements.txt"
      ],
      "execution_count": null,
      "outputs": []
    },
    {
      "cell_type": "code",
      "metadata": {
        "id": "Q8n82fzzBPFy"
      },
      "source": [
        "#move a pasta para dentro de yolov5\n",
        "%cd yolov5/"
      ],
      "execution_count": null,
      "outputs": []
    },
    {
      "cell_type": "code",
      "metadata": {
        "id": "9WB60S8DBPDV"
      },
      "source": [
        "#abre a janela de seleção para escolher um video\n",
        "from google.colab import files\n",
        "uploaded = files.upload()"
      ],
      "execution_count": null,
      "outputs": []
    },
    {
      "cell_type": "code",
      "metadata": {
        "id": "4PFMQ-_lBPBD"
      },
      "source": [
        "#roda o modelo em cima do video que fiz o upload\n",
        "!python detect.py --source \"Home Office Bampi.mp4\""
      ],
      "execution_count": null,
      "outputs": []
    }
  ]
}